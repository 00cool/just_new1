{
 "cells": [
  {
   "cell_type": "code",
   "execution_count": 4,
   "metadata": {},
   "outputs": [],
   "source": [
    "# Prgramitically Log in to Freddie Mac Webisite and download all the files based on request\n",
    "import requests\n",
    "import re\n",
    "import os\n",
    "from bs4 import BeautifulSoup\n",
    "from urllib.request import urlopen\n",
    "from zipfile import ZipFile\n",
    "from io import BytesIO\n",
    "import time\n",
    "import datetime\n",
    "import sys\n",
    "from tqdm import tqdm\n",
    "import pandas as pd\n",
    "import numpy as np\n",
    "import glob"
   ]
  },
  {
   "cell_type": "code",
   "execution_count": 5,
   "metadata": {},
   "outputs": [],
   "source": [
    "url='https://freddiemac.embs.com/FLoan/secure/auth.php'\n",
    "postUrl='https://freddiemac.embs.com/FLoan/Data/download3.php'"
   ]
  },
  {
   "cell_type": "code",
   "execution_count": 6,
   "metadata": {},
   "outputs": [],
   "source": [
    "def payloadCreation(user, passwd):\n",
    "    creds={'username': user,'password': passwd}\n",
    "    return creds\n",
    "\n",
    "def assure_path_exists(path):\n",
    "    if not os.path.exists(path):\n",
    "            os.makedirs(path)\n",
    "\n",
    "def extracrtZip(s,monthlistdata,path):\n",
    "    abc = tqdm(monthlistdata)\n",
    "    for month in abc:\n",
    "        abc.set_description(\"Downloading {}\".format(month[54:65]))\n",
    "        r = s.get(month)\n",
    "        z = ZipFile(BytesIO(r.content)) \n",
    "        z.extractall(path)"
   ]
  },
  {
   "cell_type": "code",
   "execution_count": 7,
   "metadata": {},
   "outputs": [],
   "source": [
    "def getFilesFromFreddieMac(payload,st,en):\n",
    "    with requests.Session() as s:\n",
    "        preUrl = s.post(url, data=payload)  \n",
    "        payload2={'accept': 'Yes','acceptSubmit':'Continue','action':'acceptTandC'}\n",
    "        finalUrl=s.post(postUrl,payload2)\n",
    "        linkhtml =finalUrl.text \n",
    "        allzipfiles=BeautifulSoup(linkhtml, \"html.parser\")\n",
    "        ziplist=allzipfiles.find_all('td')\n",
    "        sampledata=[]\n",
    "        historicaldata=[]\n",
    "        count=0\n",
    "        slist=[]\n",
    "        for i in range(int(st),int(en)+1):\n",
    "            #print(i)\n",
    "            slist.append(i)\n",
    "        for li in ziplist:\n",
    "            zipatags=li.findAll('a')\n",
    "            for zipa in zipatags:\n",
    "                for yr in slist:\n",
    "                    if str(yr) in zipa.text:\n",
    "                        if re.match('sample',zipa.text):\n",
    "                            link = zipa.get('href')\n",
    "                            foldername= 'SampleInputFiles'\n",
    "                            Samplepath=str(os.getcwd())+\"/\"+foldername\n",
    "                            assure_path_exists(Samplepath)\n",
    "                            finallink ='https://freddiemac.embs.com/FLoan/Data/' + link\n",
    "                            sampledata.append(finallink) \n",
    "        extracrtZip(s,sampledata,Samplepath)"
   ]
  },
  {
   "cell_type": "code",
   "execution_count": 8,
   "metadata": {},
   "outputs": [],
   "source": [
    "def main():\n",
    "    ts = time.time()\n",
    "    foldername= 'SampleInputFiles'\n",
    "    \n",
    "    startYear = 1999\n",
    "    endYear = 2016\n",
    "    user = 'eagle11061997@gmail.com'\n",
    "    password = '>w@<6J=^'\n",
    "    \n",
    "    payload=payloadCreation(user,password)\n",
    "    getFilesFromFreddieMac(payload,startYear,endYear)"
   ]
  },
  {
   "cell_type": "code",
   "execution_count": 7,
   "metadata": {},
   "outputs": [
    {
     "name": "stderr",
     "output_type": "stream",
     "text": [
      "Downloading https://freddiemac.embs.com/FLoan/Data/download.php?f=sample_2003&s=39614206: 100%|██████████| 1/1 [00:49<00:00, 49.62s/it]\n"
     ]
    }
   ],
   "source": [
    "if __name__ == '__main__':\n",
    "    main()"
   ]
  },
  {
   "cell_type": "code",
   "execution_count": null,
   "metadata": {},
   "outputs": [],
   "source": []
  }
 ],
 "metadata": {
  "kernelspec": {
   "display_name": "Python 3",
   "language": "python",
   "name": "python3"
  },
  "language_info": {
   "codemirror_mode": {
    "name": "ipython",
    "version": 3
   },
   "file_extension": ".py",
   "mimetype": "text/x-python",
   "name": "python",
   "nbconvert_exporter": "python",
   "pygments_lexer": "ipython3",
   "version": "3.5.4"
  }
 },
 "nbformat": 4,
 "nbformat_minor": 2
}
