{
 "cells": [
  {
   "cell_type": "code",
   "execution_count": 1,
   "metadata": {},
   "outputs": [],
   "source": [
    "# Prgramitically Log in to Freddie Mac Webisite and download all the files based on request\n",
    "import requests\n",
    "import re\n",
    "import os\n",
    "from bs4 import BeautifulSoup\n",
    "from urllib.request import urlopen\n",
    "from zipfile import ZipFile\n",
    "from io import BytesIO\n",
    "import time\n",
    "import datetime\n",
    "import sys\n",
    "from tqdm import tqdm\n",
    "import pandas as pd\n",
    "import numpy as np\n",
    "import glob"
   ]
  },
  {
   "cell_type": "code",
   "execution_count": 2,
   "metadata": {},
   "outputs": [],
   "source": [
    "url='https://freddiemac.embs.com/FLoan/secure/auth.php'\n",
    "postUrl='https://freddiemac.embs.com/FLoan/Data/download3.php'"
   ]
  },
  {
   "cell_type": "code",
   "execution_count": 2,
   "metadata": {},
   "outputs": [],
   "source": [
    "def payloadCreation(user, passwd):\n",
    "    creds={'username': user,'password': passwd}\n",
    "    return creds\n",
    "\n",
    "def assure_path_exists(path):\n",
    "    if not os.path.exists(path):\n",
    "            os.makedirs(path)\n",
    "\n",
    "def extracrtZip(s,monthlistdata,path,more=False):\n",
    "    abc = tqdm(monthlistdata)\n",
    "    for month in abc:\n",
    "        if more:\n",
    "            abc.set_description(\"Downloading {}\".format(month[54:75]))\n",
    "        else:\n",
    "            abc.set_description(\"Downloading {}\".format(month[54:65]))\n",
    "        r = s.get(month)\n",
    "        z = ZipFile(BytesIO(r.content))\n",
    "        z.extractall(path)\n",
    "        if more:\n",
    "            p1 = glob.glob(path+\"/historical_data1_Q*.zip\")\n",
    "            for x in p1:\n",
    "                with ZipFile(x,mode='r') as zip:\n",
    "                    zip.extractall(path)"
   ]
  },
  {
   "cell_type": "code",
   "execution_count": 4,
   "metadata": {},
   "outputs": [],
   "source": [
    "def getsampleFilesFromFreddieMac(payload,st,en,foldername):\n",
    "    with requests.Session() as s:\n",
    "        preUrl = s.post(url, data=payload)  \n",
    "        payload2={'accept': 'Yes','acceptSubmit':'Continue','action':'acceptTandC'}\n",
    "        finalUrl=s.post(postUrl,payload2)\n",
    "        linkhtml =finalUrl.text \n",
    "        allzipfiles=BeautifulSoup(linkhtml, \"html.parser\")\n",
    "        ziplist=allzipfiles.find_all('td')\n",
    "\n",
    "        Samplepath=str(os.getcwd())+\"/\"+foldername\n",
    "        assure_path_exists(Samplepath)\n",
    "        sampledata=[]\n",
    "        historicaldata=[]\n",
    "        count=0\n",
    "        slist=[]\n",
    "        for i in range(int(st),int(en)+1):\n",
    "            #print(i)\n",
    "            slist.append(i)\n",
    "        for li in ziplist:\n",
    "            zipatags=li.findAll('a')\n",
    "            for zipa in zipatags:\n",
    "                for yr in slist:\n",
    "                    if str(yr) in zipa.text:\n",
    "                        if re.match('sample',zipa.text):\n",
    "                            link = zipa.get('href')\n",
    "                            finallink ='https://freddiemac.embs.com/FLoan/Data/' + link\n",
    "                            sampledata.append(finallink) \n",
    "        extracrtZip(s,sampledata,Samplepath)"
   ]
  },
  {
   "cell_type": "code",
   "execution_count": 5,
   "metadata": {},
   "outputs": [],
   "source": [
    "def getFilesFromFreddieMacPeryear(payload,st,en,foldername):\n",
    "    with requests.Session() as s:\n",
    "        preUrl = s.post(url, data=payload)\n",
    "        payload2={'accept': 'Yes','acceptSubmit':'Continue','action':'acceptTandC'}\n",
    "        finalUrl=s.post(postUrl,payload2)\n",
    "        linkhtml =finalUrl.text\n",
    "        allzipfiles=BeautifulSoup(linkhtml, \"html.parser\")\n",
    "        ziplist=allzipfiles.find_all('td')\n",
    "        sampledata=[]\n",
    "        historicaldata=[]\n",
    "        count=0\n",
    "        hlist=[]\n",
    "        for i in range(int(st),int(en)+1):\n",
    "            #print(i)\n",
    "            hlist.append(i)\n",
    "        Historicalpath=str(os.getcwd())+\"/\"+foldername\n",
    "        assure_path_exists(Historicalpath)\n",
    "        #q =quarter[2:6]\n",
    "        #t =testquarter[2:6]\n",
    "        for li in ziplist:\n",
    "            zipatags=li.findAll('a')\n",
    "            for zipa in zipatags:\n",
    "                fetchFile='historical_data1_'\n",
    "                for yr in hlist:\n",
    "                    if (fetchFile in zipa.text) and (str(yr) in zipa.text):\n",
    "                        link = zipa.get('href')\n",
    "                        finallink ='https://freddiemac.embs.com/FLoan/Data/' + link\n",
    "    #                     print(finallink)\n",
    "                        historicaldata.append(finallink)\n",
    "        extracrtZip(s,historicaldata,Historicalpath,more=True)"
   ]
  },
  {
   "cell_type": "code",
   "execution_count": 6,
   "metadata": {},
   "outputs": [],
   "source": [
    "def main():\n",
    "    ts = time.time()\n",
    "    foldername1= 'SampleInputFiles'\n",
    "    foldername2= 'HistoricalInputFiles'\n",
    "    startYear = 1999\n",
    "    endYear = 2016\n",
    "    user = 'eagle11061997@gmail.com'\n",
    "    password = '>w@<6J=^'\n",
    "    \n",
    "    payload=payloadCreation(user,password)\n",
    "    getsampleFilesFromFreddieMac(payload,startYear,endYear,foldername1)\n",
    "    getFilesFromFreddieMacPeryear(payload,startYear,endYear,foldername2)"
   ]
  },
  {
   "cell_type": "code",
   "execution_count": 7,
   "metadata": {},
   "outputs": [
    {
     "name": "stderr",
     "output_type": "stream",
     "text": [
      "Downloading sample_2015: 100%|██████████| 1/1 [00:26<00:00, 26.56s/it]\n"
     ]
    }
   ],
   "source": [
    "if __name__ == '__main__':\n",
    "    main()"
   ]
  },
  {
   "cell_type": "code",
   "execution_count": null,
   "metadata": {},
   "outputs": [],
   "source": []
  }
 ],
 "metadata": {
  "kernelspec": {
   "display_name": "Python 3",
   "language": "python",
   "name": "python3"
  },
  "language_info": {
   "codemirror_mode": {
    "name": "ipython",
    "version": 3
   },
   "file_extension": ".py",
   "mimetype": "text/x-python",
   "name": "python",
   "nbconvert_exporter": "python",
   "pygments_lexer": "ipython3",
   "version": "3.5.4"
  }
 },
 "nbformat": 4,
 "nbformat_minor": 2
}
